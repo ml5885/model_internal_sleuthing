{
 "cells": [
  {
   "cell_type": "code",
   "execution_count": 1,
   "metadata": {},
   "outputs": [],
   "source": [
    "!pip install conllu --quiet"
   ]
  },
  {
   "cell_type": "code",
   "execution_count": 2,
   "metadata": {},
   "outputs": [
    {
     "name": "stdout",
     "output_type": "stream",
     "text": [
      "Using cached UD English-GUM train data from ../data/en_gum-ud-train.conllu\n"
     ]
    }
   ],
   "source": [
    "import os\n",
    "import requests\n",
    "import re\n",
    "import pandas as pd\n",
    "from conllu import parse_incr\n",
    "\n",
    "# URL to the UD English-GUM training data (CoNLL-U format)\n",
    "ud_gum_url = \"https://raw.githubusercontent.com/UniversalDependencies/UD_English-GUM/master/en_gum-ud-train.conllu\"\n",
    "data_dir = \"../data\"\n",
    "os.makedirs(data_dir, exist_ok=True)\n",
    "file_path = os.path.join(data_dir, \"en_gum-ud-train.conllu\")\n",
    "\n",
    "if os.path.exists(file_path):\n",
    "    print(f\"Using cached UD English-GUM train data from {file_path}\")\n",
    "else:\n",
    "    print(f\"Downloading UD English-GUM train data from {ud_gum_url} ...\")\n",
    "    response = requests.get(ud_gum_url)\n",
    "    with open(file_path, \"w\", encoding=\"utf-8\") as f:\n",
    "        f.write(response.text)\n",
    "    print(f\"Downloaded and saved the UD English-GUM dataset with {len(response.text.splitlines())} lines.\")\n"
   ]
  },
  {
   "cell_type": "code",
   "execution_count": null,
   "metadata": {},
   "outputs": [],
   "source": [
    "# Allowed pattern: only alphabetic characters and apostrophes\n",
    "allowed_pattern = re.compile(r\"^[A-Za-z']+$\")\n",
    "\n",
    "def get_category_and_label_ud(token):\n",
    "    \"\"\"\n",
    "    Map UD morphological features and UPOS to a (category, inflection label, dimension).\n",
    "    This function assumes that the token is a word token with a non-empty \"feats\" dictionary.\n",
    "    \"\"\"\n",
    "    upos = token.get(\"upostag\")\n",
    "    feats = token.get(\"feats\") or {}\n",
    "    form = token[\"form\"]\n",
    "    \n",
    "    # Initialize variables.\n",
    "    category, label, dimension = None, None, None\n",
    "    \n",
    "    if upos == \"VERB\":\n",
    "        category = \"Verb\"\n",
    "        dimension = \"Tense/Aspect\"\n",
    "        # UD often has Tense and VerbForm features.\n",
    "        tense = feats.get(\"Tense\")\n",
    "        person = feats.get(\"Person\")\n",
    "        number = feats.get(\"Number\")\n",
    "        verbform = feats.get(\"VerbForm\")\n",
    "        \n",
    "        # Heuristics for inflection label.\n",
    "        if tense == \"Pres\":\n",
    "            if person == \"3\" and number == \"Sing\":\n",
    "                label = \"3rd_pers\"\n",
    "            else:\n",
    "                label = \"base\"\n",
    "        elif tense == \"Past\":\n",
    "            label = \"past\"\n",
    "        elif verbform == \"Part\":\n",
    "            # Check if the form resembles a present participle (ending with 'ing').\n",
    "            if form.lower().endswith(\"ing\"):\n",
    "                label = \"present_participle\"\n",
    "            else:\n",
    "                # In UD, this might sometimes be a past participle.\n",
    "                label = \"past_participle\"\n",
    "        else:\n",
    "            label = \"base\"\n",
    "    \n",
    "    elif upos == \"NOUN\":\n",
    "        category = \"Noun\"\n",
    "        dimension = \"Number\"\n",
    "        num = feats.get(\"Number\")\n",
    "        # UD uses \"Sing\" and \"Plur\"\n",
    "        if num == \"Plur\":\n",
    "            label = \"plural\"\n",
    "        else:\n",
    "            label = \"singular\"\n",
    "    \n",
    "    elif upos == \"ADJ\":\n",
    "        category = \"Adjective\"\n",
    "        dimension = \"Degree\"\n",
    "        degree = feats.get(\"Degree\")\n",
    "        if degree == \"Cmp\":\n",
    "            label = \"comparative\"\n",
    "        elif degree == \"Sup\":\n",
    "            label = \"superlative\"\n",
    "        else:\n",
    "            label = \"positive\"\n",
    "    \n",
    "    return category, label, dimension"
   ]
  },
  {
   "cell_type": "code",
   "execution_count": 4,
   "metadata": {},
   "outputs": [
    {
     "name": "stdout",
     "output_type": "stream",
     "text": [
      "Built dataset with 54816 rows from the UD English-GUM data.\n",
      "\n",
      "UD GUM dataset saved to ../data/ud_gum_dataset.csv\n"
     ]
    }
   ],
   "source": [
    "dataset_rows = []\n",
    "\n",
    "# Open and parse the conllu file.\n",
    "with open(file_path, \"r\", encoding=\"utf-8\") as f:\n",
    "    # parse_incr returns one sentence (as a list of tokens) at a time.\n",
    "    for tokenlist in parse_incr(f):\n",
    "        # Get the full sentence text by joining the token forms.\n",
    "        sentence_tokens = [token[\"form\"] for token in tokenlist]\n",
    "        sentence_text = \" \".join(sentence_tokens)\n",
    "        \n",
    "        # Iterate over tokens and extract candidates.\n",
    "        for idx, token in enumerate(tokenlist):\n",
    "            # Ensure token is not a multiword token (ID as integer) and check allowed pattern.\n",
    "            if not isinstance(token[\"id\"], int):\n",
    "                continue\n",
    "            word_form = token[\"form\"]\n",
    "            if not allowed_pattern.fullmatch(word_form):\n",
    "                continue\n",
    "            # We need a lemma as well.\n",
    "            lemma = token.get(\"lemma\")\n",
    "            if lemma is None or not allowed_pattern.fullmatch(lemma):\n",
    "                continue\n",
    "            \n",
    "            # Compute category, inflection label, and dimension using UD features.\n",
    "            category, inflection_label, dimension = get_category_and_label_ud(token)\n",
    "            if category is None or inflection_label is None:\n",
    "                continue\n",
    "\n",
    "            # Build a row for the dataset.\n",
    "            dataset_rows.append({\n",
    "                \"Sentence\": sentence_text,\n",
    "                \"Target Index\": idx,  # target word index within sentence_tokens\n",
    "                \"Lemma\": lemma,\n",
    "                \"Category\": category,\n",
    "                \"Inflection Label\": inflection_label,\n",
    "                \"Word Form\": word_form,\n",
    "                \"Dimension\": dimension,\n",
    "                \"Source Type\": \"UD_GUM\"\n",
    "            })\n",
    "\n",
    "print(f\"Built dataset with {len(dataset_rows)} rows from the UD English-GUM data.\")\n",
    "\n",
    "# Create a pandas DataFrame.\n",
    "df_ud = pd.DataFrame(dataset_rows)\n",
    "\n",
    "# Save the dataset to a CSV file.\n",
    "output_file = os.path.join(data_dir, \"ud_gum_dataset.csv\")\n",
    "df_ud.to_csv(output_file, index=False)\n",
    "print(f\"\\nUD GUM dataset saved to {output_file}\")"
   ]
  },
  {
   "cell_type": "code",
   "execution_count": 6,
   "metadata": {},
   "outputs": [
    {
     "name": "stdout",
     "output_type": "stream",
     "text": [
      "First 5 rows of the dataset:\n",
      "                                   Sentence  Target Index         Lemma  \\\n",
      "0  Aesthetic Appreciation and Spanish Art :             0     aesthetic   \n",
      "1  Aesthetic Appreciation and Spanish Art :             1  appreciation   \n",
      "2  Aesthetic Appreciation and Spanish Art :             3       Spanish   \n",
      "3  Aesthetic Appreciation and Spanish Art :             4           art   \n",
      "4              Insights from Eye - Tracking             0       insight   \n",
      "\n",
      "    Category Inflection Label     Word Form Dimension Source Type  \n",
      "0  Adjective         positive     Aesthetic    Degree      UD_GUM  \n",
      "1       Noun         singular  Appreciation    Number      UD_GUM  \n",
      "2  Adjective         positive       Spanish    Degree      UD_GUM  \n",
      "3       Noun         singular           Art    Number      UD_GUM  \n",
      "4       Noun           plural      Insights    Number      UD_GUM  \n",
      "\n",
      "Total rows in dataset: 54816\n",
      "Number of unique lemmas: 7848\n"
     ]
    }
   ],
   "source": [
    "# Show the first 5 rows.\n",
    "print(\"First 5 rows of the dataset:\")\n",
    "print(df_ud.head())\n",
    "\n",
    "# Provide summary statistics.\n",
    "num_rows = len(df_ud)\n",
    "unique_lemmas = df_ud[\"Lemma\"].nunique()\n",
    "print(f\"\\nTotal rows in dataset: {num_rows}\")\n",
    "print(f\"Number of unique lemmas: {unique_lemmas}\")"
   ]
  },
  {
   "cell_type": "code",
   "execution_count": 8,
   "metadata": {},
   "outputs": [
    {
     "name": "stdout",
     "output_type": "stream",
     "text": [
      "\n",
      "Random sample of 5 rows:\n",
      "                                                Sentence  Target Index  \\\n",
      "23002  It's It 's really strange occurrence , over th...             4   \n",
      "37916  The old method was to use chemical sprays to k...            24   \n",
      "47105  From the later 1800s to the 1920s Mérida enjoy...             9   \n",
      "49525  Reality hurts when it intrudes ; as such , an ...             7   \n",
      "20987  \" To have a business allow that type of filth ...             2   \n",
      "\n",
      "            Lemma   Category Inflection Label   Word Form     Dimension  \\\n",
      "23002     strange  Adjective         positive     strange        Degree   \n",
      "37916   awareness       Noun         singular   awareness        Number   \n",
      "47105  prosperous  Adjective         positive  prosperous        Degree   \n",
      "49525        such  Adjective         positive        such        Degree   \n",
      "20987        have       Verb             base        have  Tense/Aspect   \n",
      "\n",
      "      Source Type  \n",
      "23002      UD_GUM  \n",
      "37916      UD_GUM  \n",
      "47105      UD_GUM  \n",
      "49525      UD_GUM  \n",
      "20987      UD_GUM  \n"
     ]
    }
   ],
   "source": [
    "print(\"\\nRandom sample of 5 rows:\")\n",
    "print(df_ud.sample(5, random_state=42))"
   ]
  },
  {
   "cell_type": "code",
   "execution_count": null,
   "metadata": {},
   "outputs": [
    {
     "name": "stdout",
     "output_type": "stream",
     "text": [
      "\n",
      "Distribution by Category:\n",
      "Noun         27111\n",
      "Verb         17093\n",
      "Adjective    10612\n",
      "Name: Category, dtype: int64\n",
      "\n",
      "Distribution by Inflection Label:\n",
      "singular       19830\n",
      "base           10076\n",
      "positive        9926\n",
      "plural          7281\n",
      "past            5604\n",
      "3rd_pers        1413\n",
      "comparative      403\n",
      "superlative      283\n",
      "Name: Inflection Label, dtype: int64\n"
     ]
    },
    {
     "ename": "",
     "evalue": "",
     "output_type": "error",
     "traceback": [
      "\u001b[1;31mThe Kernel crashed while executing code in the current cell or a previous cell. \n",
      "\u001b[1;31mPlease review the code in the cell(s) to identify a possible cause of the failure. \n",
      "\u001b[1;31mClick <a href='https://aka.ms/vscodeJupyterKernelCrash'>here</a> for more info. \n",
      "\u001b[1;31mView Jupyter <a href='command:jupyter.viewOutput'>log</a> for further details."
     ]
    }
   ],
   "source": [
    "# Distribution by Category.\n",
    "cat_counts = df_ud[\"Category\"].value_counts()\n",
    "print(\"\\nDistribution by Category:\")\n",
    "print(cat_counts)\n",
    "\n",
    "# Distribution by Inflection Label.\n",
    "inflect_counts = df_ud[\"Inflection Label\"].value_counts()\n",
    "print(\"\\nDistribution by Inflection Label:\")\n",
    "print(inflect_counts)"
   ]
  }
 ],
 "metadata": {
  "kernelspec": {
   "display_name": "cmu",
   "language": "python",
   "name": "cmu"
  },
  "language_info": {
   "codemirror_mode": {
    "name": "ipython",
    "version": 3
   },
   "file_extension": ".py",
   "mimetype": "text/x-python",
   "name": "python",
   "nbconvert_exporter": "python",
   "pygments_lexer": "ipython3",
   "version": "3.10.13"
  }
 },
 "nbformat": 4,
 "nbformat_minor": 2
}
